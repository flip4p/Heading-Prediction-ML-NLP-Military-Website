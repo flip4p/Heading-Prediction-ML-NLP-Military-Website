{
  "nbformat": 4,
  "nbformat_minor": 0,
  "metadata": {
    "colab": {
      "provenance": [],
      "authorship_tag": "ABX9TyOcQnc+JcTGPCcM9f+emv9+"
    },
    "kernelspec": {
      "name": "python3",
      "display_name": "Python 3"
    },
    "language_info": {
      "name": "python"
    }
  },
  "cells": [
    {
      "cell_type": "code",
      "execution_count": 22,
      "metadata": {
        "id": "XgWRHhD0vfTo"
      },
      "outputs": [],
      "source": [
        "# !pip install -U pip setuptools wheel\n",
        "# !pip install -U spacy\n",
        "# !python3 -m spacy download pl_core_news_sm"
      ]
    },
    {
      "cell_type": "code",
      "source": [
        "import pandas as pd\n",
        "import requests\n",
        "from time import sleep\n",
        "import html\n",
        "import unicodedata\n",
        "from bs4 import BeautifulSoup\n",
        "import spacy\n",
        "import pl_core_news_sm\n",
        "from sklearn.model_selection import train_test_split\n",
        "from sklearn.feature_extraction.text import TfidfVectorizer "
      ],
      "metadata": {
        "id": "fnaWy0rRvnHh"
      },
      "execution_count": null,
      "outputs": []
    },
    {
      "cell_type": "code",
      "source": [
        "genre = 'polityka-obronna'\n",
        "page_number = 2\n",
        "http_address = f'https://defence24.pl/zobacz-wiecej-polityka-obronna?page={page_number}'\n",
        "\n",
        "response = requests.get(http_address)\n",
        "content = response.content.decode('utf-8')\n",
        "content = html.unescape(content)\n",
        "content = unicodedata.normalize('NFKD',content)"
      ],
      "metadata": {
        "id": "uoP1Ks2LynwC"
      },
      "execution_count": 3,
      "outputs": []
    },
    {
      "cell_type": "code",
      "source": [
        "soup = BeautifulSoup(content, 'html.parser')\n",
        "a = soup.find_all('a', {'class': 'tile__title stretched-link'})\n",
        "a[0].get_text().strip()"
      ],
      "metadata": {
        "colab": {
          "base_uri": "https://localhost:8080/",
          "height": 36
        },
        "id": "S0JCslwOzoyW",
        "outputId": "4e00faab-994b-44bc-8e8e-525af740f6ac"
      },
      "execution_count": 5,
      "outputs": [
        {
          "output_type": "execute_result",
          "data": {
            "text/plain": [
              "'Warszawa proponuje nowe podejście do broni atomowej. Berlin zaakceptuje? [KOMENTARZ]'"
            ],
            "application/vnd.google.colaboratory.intrinsic+json": {
              "type": "string"
            }
          },
          "metadata": {},
          "execution_count": 5
        }
      ]
    },
    {
      "cell_type": "code",
      "source": [
        "def get_data(genre, number_of_pages):\n",
        "    \n",
        "    labels = []\n",
        "    all_titles = []\n",
        "\n",
        "\n",
        "    for page_number in range(1, number_of_pages): # iteracja po numerze strony\n",
        "            print(f'Getting data about {genre} from page number {page_number}')\n",
        "            \n",
        "            http_address = f'https://defence24.pl/{genre}?page={page_number}' # genre - zakładka film\n",
        "            response = requests.get(http_address)\n",
        "            content = response.content.decode(\"utf-8\")\n",
        "            content = html.unescape(content)\n",
        "            content = unicodedata.normalize('NFKD',content)\n",
        "\n",
        "            soup = BeautifulSoup(content, 'html.parser')\n",
        "            a = soup.find_all('a', {'class': 'tile__title stretched-link'})\n",
        "            titles = [x.get_text().strip() for x in a]\n",
        "\n",
        "            all_titles.extend(titles)\n",
        "\n",
        "            \n",
        "            labels.extend([genre.replace(\"zobacz-wiecej-\",\"\")] * len(titles))\n",
        "            \n",
        "            sleep(5)\n",
        "        \n",
        "    return {'title': all_titles, 'label':labels}"
      ],
      "metadata": {
        "id": "9UXUoAje1jaQ"
      },
      "execution_count": 7,
      "outputs": []
    },
    {
      "cell_type": "code",
      "source": [
        "    # websites_catalogs = [\"zobacz-wiecej-polityka-obronna\",\"zobacz-wiecej-przemysl\",\"zobacz-wiecej-geopolityka\",\"zobacz-wiecej-sily-zbrojne\"]\n",
        "    # lista = []\n",
        "    # for catalogs in websites_catalogs:\n",
        "    #  x = get_data(catalogs,10)\n",
        "    #  lista.append(x)"
      ],
      "metadata": {
        "id": "N_bl51C42RTV"
      },
      "execution_count": 23,
      "outputs": []
    },
    {
      "cell_type": "code",
      "source": [
        "df1 = pd.DataFrame(lista[0])\n",
        "df2 = pd.DataFrame(lista[1])\n",
        "df3 = pd.DataFrame(lista[2])\n",
        "df4 = pd.DataFrame(lista[3])"
      ],
      "metadata": {
        "id": "1_iTB4j022NK"
      },
      "execution_count": 9,
      "outputs": []
    },
    {
      "cell_type": "code",
      "source": [
        "nlp = spacy.load('pl_core_news_sm') "
      ],
      "metadata": {
        "id": "M4U8y0qa3Auj"
      },
      "execution_count": 10,
      "outputs": []
    },
    {
      "cell_type": "code",
      "source": [
        "df_all = pd.concat([df1,df2,df3,df4]).sample(frac=1).reset_index(drop=True)\n",
        "\n",
        "title_list_lem = []\n",
        "for title in df_all[\"title\"]:\n",
        "  doc = nlp(title)\n",
        "  lista1 = []\n",
        "  for token in doc:\n",
        "    lista1.append(token.lemma_)\n",
        "  title_list_lem.append(\" \".join(lista1))"
      ],
      "metadata": {
        "id": "ZBI58YRL2437"
      },
      "execution_count": 11,
      "outputs": []
    },
    {
      "cell_type": "code",
      "source": [
        "title_list_stop = []\n",
        "for title in df_all[\"title\"]:\n",
        "  doc = nlp(title)\n",
        "  lista1 = []\n",
        "  for token in doc:\n",
        "    if token.is_stop == False:\n",
        "      lista1.append(token.lemma_)\n",
        "  title_list_stop.append(\" \".join(lista1))"
      ],
      "metadata": {
        "id": "lg-Thruk28xJ"
      },
      "execution_count": 12,
      "outputs": []
    },
    {
      "cell_type": "code",
      "source": [
        "df_all[\"token_stop\"] = title_list_stop\n",
        "df_all[\"token_lem\"] = title_list_lem"
      ],
      "metadata": {
        "id": "UftpuSOQ3Hpm"
      },
      "execution_count": 13,
      "outputs": []
    },
    {
      "cell_type": "code",
      "source": [
        "X1 = df_all['title']\n",
        "y = df_all['label'] \n",
        "\n",
        "X1_train, X1_test, y_train, y_test = train_test_split(X1, y, test_size=0.3, random_state=0, stratify=y)\n",
        "\n",
        "X2 = df_all['token_lem']\n",
        "y = df_all['label'] \n",
        "\n",
        "X2_train, X2_test, y_train, y_test = train_test_split(X2, y, test_size=0.3, random_state=0, stratify=y)\n",
        "\n",
        "X3 = df_all['token_stop']\n",
        "y = df_all['label'] \n",
        "\n",
        "X3_train, X3_test, y_train, y_test = train_test_split(X3, y, test_size=0.3, random_state=0, stratify=y)"
      ],
      "metadata": {
        "id": "9q1YuV6o3Vre"
      },
      "execution_count": 14,
      "outputs": []
    },
    {
      "cell_type": "code",
      "source": [
        "tfidf1 = TfidfVectorizer()\n",
        "tfidf1.fit(X1_train) \n",
        "\n",
        "tfidf2 = TfidfVectorizer()\n",
        "tfidf2.fit(X2_train)\n",
        "\n",
        "tfidf3 = TfidfVectorizer()\n",
        "tfidf3.fit(X3_train) "
      ],
      "metadata": {
        "colab": {
          "base_uri": "https://localhost:8080/",
          "height": 74
        },
        "id": "YEuZqZKi4SA3",
        "outputId": "41607f3a-a5c0-449b-dfcf-23ed05aa1c4a"
      },
      "execution_count": 15,
      "outputs": [
        {
          "output_type": "execute_result",
          "data": {
            "text/plain": [
              "TfidfVectorizer()"
            ],
            "text/html": [
              "<style>#sk-container-id-1 {color: black;background-color: white;}#sk-container-id-1 pre{padding: 0;}#sk-container-id-1 div.sk-toggleable {background-color: white;}#sk-container-id-1 label.sk-toggleable__label {cursor: pointer;display: block;width: 100%;margin-bottom: 0;padding: 0.3em;box-sizing: border-box;text-align: center;}#sk-container-id-1 label.sk-toggleable__label-arrow:before {content: \"▸\";float: left;margin-right: 0.25em;color: #696969;}#sk-container-id-1 label.sk-toggleable__label-arrow:hover:before {color: black;}#sk-container-id-1 div.sk-estimator:hover label.sk-toggleable__label-arrow:before {color: black;}#sk-container-id-1 div.sk-toggleable__content {max-height: 0;max-width: 0;overflow: hidden;text-align: left;background-color: #f0f8ff;}#sk-container-id-1 div.sk-toggleable__content pre {margin: 0.2em;color: black;border-radius: 0.25em;background-color: #f0f8ff;}#sk-container-id-1 input.sk-toggleable__control:checked~div.sk-toggleable__content {max-height: 200px;max-width: 100%;overflow: auto;}#sk-container-id-1 input.sk-toggleable__control:checked~label.sk-toggleable__label-arrow:before {content: \"▾\";}#sk-container-id-1 div.sk-estimator input.sk-toggleable__control:checked~label.sk-toggleable__label {background-color: #d4ebff;}#sk-container-id-1 div.sk-label input.sk-toggleable__control:checked~label.sk-toggleable__label {background-color: #d4ebff;}#sk-container-id-1 input.sk-hidden--visually {border: 0;clip: rect(1px 1px 1px 1px);clip: rect(1px, 1px, 1px, 1px);height: 1px;margin: -1px;overflow: hidden;padding: 0;position: absolute;width: 1px;}#sk-container-id-1 div.sk-estimator {font-family: monospace;background-color: #f0f8ff;border: 1px dotted black;border-radius: 0.25em;box-sizing: border-box;margin-bottom: 0.5em;}#sk-container-id-1 div.sk-estimator:hover {background-color: #d4ebff;}#sk-container-id-1 div.sk-parallel-item::after {content: \"\";width: 100%;border-bottom: 1px solid gray;flex-grow: 1;}#sk-container-id-1 div.sk-label:hover label.sk-toggleable__label {background-color: #d4ebff;}#sk-container-id-1 div.sk-serial::before {content: \"\";position: absolute;border-left: 1px solid gray;box-sizing: border-box;top: 0;bottom: 0;left: 50%;z-index: 0;}#sk-container-id-1 div.sk-serial {display: flex;flex-direction: column;align-items: center;background-color: white;padding-right: 0.2em;padding-left: 0.2em;position: relative;}#sk-container-id-1 div.sk-item {position: relative;z-index: 1;}#sk-container-id-1 div.sk-parallel {display: flex;align-items: stretch;justify-content: center;background-color: white;position: relative;}#sk-container-id-1 div.sk-item::before, #sk-container-id-1 div.sk-parallel-item::before {content: \"\";position: absolute;border-left: 1px solid gray;box-sizing: border-box;top: 0;bottom: 0;left: 50%;z-index: -1;}#sk-container-id-1 div.sk-parallel-item {display: flex;flex-direction: column;z-index: 1;position: relative;background-color: white;}#sk-container-id-1 div.sk-parallel-item:first-child::after {align-self: flex-end;width: 50%;}#sk-container-id-1 div.sk-parallel-item:last-child::after {align-self: flex-start;width: 50%;}#sk-container-id-1 div.sk-parallel-item:only-child::after {width: 0;}#sk-container-id-1 div.sk-dashed-wrapped {border: 1px dashed gray;margin: 0 0.4em 0.5em 0.4em;box-sizing: border-box;padding-bottom: 0.4em;background-color: white;}#sk-container-id-1 div.sk-label label {font-family: monospace;font-weight: bold;display: inline-block;line-height: 1.2em;}#sk-container-id-1 div.sk-label-container {text-align: center;}#sk-container-id-1 div.sk-container {/* jupyter's `normalize.less` sets `[hidden] { display: none; }` but bootstrap.min.css set `[hidden] { display: none !important; }` so we also need the `!important` here to be able to override the default hidden behavior on the sphinx rendered scikit-learn.org. See: https://github.com/scikit-learn/scikit-learn/issues/21755 */display: inline-block !important;position: relative;}#sk-container-id-1 div.sk-text-repr-fallback {display: none;}</style><div id=\"sk-container-id-1\" class=\"sk-top-container\"><div class=\"sk-text-repr-fallback\"><pre>TfidfVectorizer()</pre><b>In a Jupyter environment, please rerun this cell to show the HTML representation or trust the notebook. <br />On GitHub, the HTML representation is unable to render, please try loading this page with nbviewer.org.</b></div><div class=\"sk-container\" hidden><div class=\"sk-item\"><div class=\"sk-estimator sk-toggleable\"><input class=\"sk-toggleable__control sk-hidden--visually\" id=\"sk-estimator-id-1\" type=\"checkbox\" checked><label for=\"sk-estimator-id-1\" class=\"sk-toggleable__label sk-toggleable__label-arrow\">TfidfVectorizer</label><div class=\"sk-toggleable__content\"><pre>TfidfVectorizer()</pre></div></div></div></div></div>"
            ]
          },
          "metadata": {},
          "execution_count": 15
        }
      ]
    },
    {
      "cell_type": "code",
      "source": [
        "X1_train_tf = tfidf1.transform(X1_train)\n",
        "X1_test_tf = tfidf1.transform(X1_test)\n",
        "\n",
        "X2_train_tf = tfidf2.transform(X2_train)\n",
        "X2_test_tf = tfidf2.transform(X2_test)\n",
        "\n",
        "X3_train_tf = tfidf3.transform(X3_train)\n",
        "X3_test_tf = tfidf3.transform(X3_test)"
      ],
      "metadata": {
        "id": "TsCQr-DX4T69"
      },
      "execution_count": 16,
      "outputs": []
    },
    {
      "cell_type": "code",
      "source": [
        "from sklearn.linear_model import LogisticRegression\n",
        "\n",
        "lr1 = LogisticRegression()\n",
        "lr1.fit(X1_train_tf, y_train)\n",
        "\n",
        "\n",
        "lr2 = LogisticRegression()\n",
        "lr2.fit(X2_train_tf, y_train)\n",
        "\n",
        "\n",
        "lr3 = LogisticRegression()\n",
        "lr3.fit(X3_train_tf, y_train)"
      ],
      "metadata": {
        "colab": {
          "base_uri": "https://localhost:8080/",
          "height": 74
        },
        "id": "asFBka8-4f4g",
        "outputId": "f8277f42-246e-46fb-df9e-f7c2d63f2de8"
      },
      "execution_count": 17,
      "outputs": [
        {
          "output_type": "execute_result",
          "data": {
            "text/plain": [
              "LogisticRegression()"
            ],
            "text/html": [
              "<style>#sk-container-id-2 {color: black;background-color: white;}#sk-container-id-2 pre{padding: 0;}#sk-container-id-2 div.sk-toggleable {background-color: white;}#sk-container-id-2 label.sk-toggleable__label {cursor: pointer;display: block;width: 100%;margin-bottom: 0;padding: 0.3em;box-sizing: border-box;text-align: center;}#sk-container-id-2 label.sk-toggleable__label-arrow:before {content: \"▸\";float: left;margin-right: 0.25em;color: #696969;}#sk-container-id-2 label.sk-toggleable__label-arrow:hover:before {color: black;}#sk-container-id-2 div.sk-estimator:hover label.sk-toggleable__label-arrow:before {color: black;}#sk-container-id-2 div.sk-toggleable__content {max-height: 0;max-width: 0;overflow: hidden;text-align: left;background-color: #f0f8ff;}#sk-container-id-2 div.sk-toggleable__content pre {margin: 0.2em;color: black;border-radius: 0.25em;background-color: #f0f8ff;}#sk-container-id-2 input.sk-toggleable__control:checked~div.sk-toggleable__content {max-height: 200px;max-width: 100%;overflow: auto;}#sk-container-id-2 input.sk-toggleable__control:checked~label.sk-toggleable__label-arrow:before {content: \"▾\";}#sk-container-id-2 div.sk-estimator input.sk-toggleable__control:checked~label.sk-toggleable__label {background-color: #d4ebff;}#sk-container-id-2 div.sk-label input.sk-toggleable__control:checked~label.sk-toggleable__label {background-color: #d4ebff;}#sk-container-id-2 input.sk-hidden--visually {border: 0;clip: rect(1px 1px 1px 1px);clip: rect(1px, 1px, 1px, 1px);height: 1px;margin: -1px;overflow: hidden;padding: 0;position: absolute;width: 1px;}#sk-container-id-2 div.sk-estimator {font-family: monospace;background-color: #f0f8ff;border: 1px dotted black;border-radius: 0.25em;box-sizing: border-box;margin-bottom: 0.5em;}#sk-container-id-2 div.sk-estimator:hover {background-color: #d4ebff;}#sk-container-id-2 div.sk-parallel-item::after {content: \"\";width: 100%;border-bottom: 1px solid gray;flex-grow: 1;}#sk-container-id-2 div.sk-label:hover label.sk-toggleable__label {background-color: #d4ebff;}#sk-container-id-2 div.sk-serial::before {content: \"\";position: absolute;border-left: 1px solid gray;box-sizing: border-box;top: 0;bottom: 0;left: 50%;z-index: 0;}#sk-container-id-2 div.sk-serial {display: flex;flex-direction: column;align-items: center;background-color: white;padding-right: 0.2em;padding-left: 0.2em;position: relative;}#sk-container-id-2 div.sk-item {position: relative;z-index: 1;}#sk-container-id-2 div.sk-parallel {display: flex;align-items: stretch;justify-content: center;background-color: white;position: relative;}#sk-container-id-2 div.sk-item::before, #sk-container-id-2 div.sk-parallel-item::before {content: \"\";position: absolute;border-left: 1px solid gray;box-sizing: border-box;top: 0;bottom: 0;left: 50%;z-index: -1;}#sk-container-id-2 div.sk-parallel-item {display: flex;flex-direction: column;z-index: 1;position: relative;background-color: white;}#sk-container-id-2 div.sk-parallel-item:first-child::after {align-self: flex-end;width: 50%;}#sk-container-id-2 div.sk-parallel-item:last-child::after {align-self: flex-start;width: 50%;}#sk-container-id-2 div.sk-parallel-item:only-child::after {width: 0;}#sk-container-id-2 div.sk-dashed-wrapped {border: 1px dashed gray;margin: 0 0.4em 0.5em 0.4em;box-sizing: border-box;padding-bottom: 0.4em;background-color: white;}#sk-container-id-2 div.sk-label label {font-family: monospace;font-weight: bold;display: inline-block;line-height: 1.2em;}#sk-container-id-2 div.sk-label-container {text-align: center;}#sk-container-id-2 div.sk-container {/* jupyter's `normalize.less` sets `[hidden] { display: none; }` but bootstrap.min.css set `[hidden] { display: none !important; }` so we also need the `!important` here to be able to override the default hidden behavior on the sphinx rendered scikit-learn.org. See: https://github.com/scikit-learn/scikit-learn/issues/21755 */display: inline-block !important;position: relative;}#sk-container-id-2 div.sk-text-repr-fallback {display: none;}</style><div id=\"sk-container-id-2\" class=\"sk-top-container\"><div class=\"sk-text-repr-fallback\"><pre>LogisticRegression()</pre><b>In a Jupyter environment, please rerun this cell to show the HTML representation or trust the notebook. <br />On GitHub, the HTML representation is unable to render, please try loading this page with nbviewer.org.</b></div><div class=\"sk-container\" hidden><div class=\"sk-item\"><div class=\"sk-estimator sk-toggleable\"><input class=\"sk-toggleable__control sk-hidden--visually\" id=\"sk-estimator-id-2\" type=\"checkbox\" checked><label for=\"sk-estimator-id-2\" class=\"sk-toggleable__label sk-toggleable__label-arrow\">LogisticRegression</label><div class=\"sk-toggleable__content\"><pre>LogisticRegression()</pre></div></div></div></div></div>"
            ]
          },
          "metadata": {},
          "execution_count": 17
        }
      ]
    },
    {
      "cell_type": "code",
      "source": [
        "y1_pred = lr1.predict(X1_test_tf)\n",
        "\n",
        "y2_pred = lr2.predict(X2_test_tf)\n",
        "\n",
        "y3_pred = lr3.predict(X3_test_tf)"
      ],
      "metadata": {
        "id": "-rh9itry4i_A"
      },
      "execution_count": 18,
      "outputs": []
    },
    {
      "cell_type": "code",
      "source": [
        "from sklearn.metrics import classification_report\n",
        "print(classification_report(y_test, y1_pred))\n",
        "\n",
        "print(classification_report(y_test, y2_pred))\n",
        "\n",
        "print(classification_report(y_test, y3_pred))"
      ],
      "metadata": {
        "colab": {
          "base_uri": "https://localhost:8080/"
        },
        "id": "xGZWglXs5FY4",
        "outputId": "0eaeb6a1-3ea4-4e93-b665-3d76098a4703"
      },
      "execution_count": 19,
      "outputs": [
        {
          "output_type": "stream",
          "name": "stdout",
          "text": [
            "                  precision    recall  f1-score   support\n",
            "\n",
            "     geopolityka       0.41      0.44      0.42        25\n",
            "polityka-obronna       0.50      0.48      0.49        25\n",
            "        przemysl       0.44      0.50      0.47        24\n",
            "    sily-zbrojne       0.25      0.21      0.23        24\n",
            "\n",
            "        accuracy                           0.41        98\n",
            "       macro avg       0.40      0.41      0.40        98\n",
            "    weighted avg       0.40      0.41      0.40        98\n",
            "\n",
            "                  precision    recall  f1-score   support\n",
            "\n",
            "     geopolityka       0.62      0.52      0.57        25\n",
            "polityka-obronna       0.59      0.52      0.55        25\n",
            "        przemysl       0.45      0.54      0.49        24\n",
            "    sily-zbrojne       0.27      0.29      0.28        24\n",
            "\n",
            "        accuracy                           0.47        98\n",
            "       macro avg       0.48      0.47      0.47        98\n",
            "    weighted avg       0.48      0.47      0.47        98\n",
            "\n",
            "                  precision    recall  f1-score   support\n",
            "\n",
            "     geopolityka       0.55      0.64      0.59        25\n",
            "polityka-obronna       0.65      0.52      0.58        25\n",
            "        przemysl       0.59      0.54      0.57        24\n",
            "    sily-zbrojne       0.37      0.42      0.39        24\n",
            "\n",
            "        accuracy                           0.53        98\n",
            "       macro avg       0.54      0.53      0.53        98\n",
            "    weighted avg       0.54      0.53      0.53        98\n",
            "\n"
          ]
        }
      ]
    },
    {
      "cell_type": "code",
      "source": [
        "sentence = [\"czolg\"]\n",
        "sentence_trans = tfidf1.transform(sentence)\n",
        "lr1.predict(sentence_trans)\n"
      ],
      "metadata": {
        "colab": {
          "base_uri": "https://localhost:8080/"
        },
        "id": "Ew4OlX_95ITd",
        "outputId": "524c6de9-fe1a-41ce-bce1-2c44815b40fe"
      },
      "execution_count": 20,
      "outputs": [
        {
          "output_type": "execute_result",
          "data": {
            "text/plain": [
              "array(['sily-zbrojne'], dtype=object)"
            ]
          },
          "metadata": {},
          "execution_count": 20
        }
      ]
    },
    {
      "cell_type": "code",
      "source": [
        "print(f\"The word/sentence: {sentence} matches to catalog called {lr1.predict(sentence_trans)}\")"
      ],
      "metadata": {
        "colab": {
          "base_uri": "https://localhost:8080/"
        },
        "id": "rV3ZLWjg5OFZ",
        "outputId": "c56836bc-5ec0-415b-ff93-5c113cb4292e"
      },
      "execution_count": 21,
      "outputs": [
        {
          "output_type": "stream",
          "name": "stdout",
          "text": [
            "The word/sentence: ['czolg'] matches to catalog called ['sily-zbrojne']\n"
          ]
        }
      ]
    }
  ]
}